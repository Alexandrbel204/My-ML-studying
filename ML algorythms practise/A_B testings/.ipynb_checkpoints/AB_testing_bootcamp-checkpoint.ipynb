{
 "cells": [
  {
   "cell_type": "markdown",
   "id": "c175f2e4",
   "metadata": {},
   "source": [
    "\n",
    "# A/B Testing Bootcamp — Теория + Практика в Jupyter\n",
    "\n",
    "**Версия:** 2025-08-14\n",
    "\n",
    "Добро пожаловать! Этот ноутбук — пошаговый «учебник + практикум» по A/B тестам.  \n",
    "Он охватывает: базовую статистику, t/z-тесты, bootstrap, расчёт размера выборки, AA-тест, множественные проверки, CUPED, стратификацию и демонстрацию sequential testing.\n",
    "\n",
    "## Как пользоваться\n",
    "- Идём сверху вниз: сначала читаем краткую теорию (markdown), затем запускаем кодовые ячейки.\n",
    "- Графики рисуются обычным `matplotlib` (без seaborn и стилей).\n",
    "- Если каких-то библиотек нет, установите их заранее в вашей среде:\n",
    "  - `numpy`, `pandas`, `scipy`, `statsmodels`, `matplotlib`\n",
    "\n",
    "> Подсказка: ячейки с кодом помечены «Практика», теоретические — «Теория».\n"
   ]
  },
  {
   "cell_type": "markdown",
   "id": "a2d4cebf",
   "metadata": {},
   "source": [
    "\n",
    "---\n",
    "## 📅 День 1 — База A/B-тестирования и статистика\n",
    "\n",
    "### Теория\n",
    "- **A/B-тест**: сравнение контрольной (A) и тестовой (B) групп по заранее выбранной метрике.\n",
    "- **Рандомизация** — ключ к причинной интерпретации.\n",
    "- **Метрики**: средний чек, время на сайте, конверсия, CTR, ARPU, удержание и т.д.\n",
    "- **Гипотезы**: H₀ (разницы нет) и H₁ (разница есть). Односторонние/двусторонние.\n",
    "- **Ошибки**: I рода (α, ложноположит.), II рода (β, ложноотриц.). **Мощность** = 1−β.\n",
    "- **p-value**: вероятность получить наблюдаемую (или более экстремальную) статистику при верной H₀.\n",
    "- **Доверительный интервал (CI)**: диапазон правдоподобных значений эффекта.\n",
    "- **Тесты**:\n",
    "  - t-тест для средних (независимые/парные выборки).\n",
    "  - Z-тест для пропорций (конверсий).\n",
    "  - Не параметрические (Mann–Whitney).\n",
    "  - Перестановочные и bootstrap-тесты.\n"
   ]
  },
  {
   "cell_type": "markdown",
   "id": "b32b1fc8",
   "metadata": {},
   "source": [
    "### Практика: генерация данных по среднему чеку"
   ]
  },
  {
   "cell_type": "code",
   "execution_count": 1,
   "id": "3c7f1c36",
   "metadata": {},
   "outputs": [
    {
     "data": {
      "text/html": [
       "<div>\n",
       "<style scoped>\n",
       "    .dataframe tbody tr th:only-of-type {\n",
       "        vertical-align: middle;\n",
       "    }\n",
       "\n",
       "    .dataframe tbody tr th {\n",
       "        vertical-align: top;\n",
       "    }\n",
       "\n",
       "    .dataframe thead th {\n",
       "        text-align: right;\n",
       "    }\n",
       "</style>\n",
       "<table border=\"1\" class=\"dataframe\">\n",
       "  <thead>\n",
       "    <tr style=\"text-align: right;\">\n",
       "      <th></th>\n",
       "      <th>group</th>\n",
       "      <th>revenue</th>\n",
       "    </tr>\n",
       "  </thead>\n",
       "  <tbody>\n",
       "    <tr>\n",
       "      <th>0</th>\n",
       "      <td>control</td>\n",
       "      <td>104.967142</td>\n",
       "    </tr>\n",
       "    <tr>\n",
       "      <th>1</th>\n",
       "      <td>control</td>\n",
       "      <td>98.617357</td>\n",
       "    </tr>\n",
       "    <tr>\n",
       "      <th>2</th>\n",
       "      <td>control</td>\n",
       "      <td>106.476885</td>\n",
       "    </tr>\n",
       "    <tr>\n",
       "      <th>3</th>\n",
       "      <td>control</td>\n",
       "      <td>115.230299</td>\n",
       "    </tr>\n",
       "    <tr>\n",
       "      <th>4</th>\n",
       "      <td>control</td>\n",
       "      <td>97.658466</td>\n",
       "    </tr>\n",
       "  </tbody>\n",
       "</table>\n",
       "</div>"
      ],
      "text/plain": [
       "     group     revenue\n",
       "0  control  104.967142\n",
       "1  control   98.617357\n",
       "2  control  106.476885\n",
       "3  control  115.230299\n",
       "4  control   97.658466"
      ]
     },
     "execution_count": 1,
     "metadata": {},
     "output_type": "execute_result"
    }
   ],
   "source": [
    "\n",
    "import numpy as np\n",
    "import pandas as pd\n",
    "\n",
    "np.random.seed(42)\n",
    "n = 5000\n",
    "control = np.random.normal(100, 10, n)   # средний чек в контроле\n",
    "test = np.random.normal(102, 10, n)      # увеличили на ~2 единицы\n",
    "\n",
    "df_mean = pd.DataFrame({\n",
    "    'group': ['control']*n + ['test']*n,\n",
    "    'revenue': np.concatenate([control, test])\n",
    "})\n",
    "df_mean.head()\n"
   ]
  },
  {
   "cell_type": "markdown",
   "id": "e9f1026b",
   "metadata": {},
   "source": [
    "### Практика: t-тест (средние) и доверительный интервал"
   ]
  },
  {
   "cell_type": "code",
   "execution_count": 4,
   "id": "4aeaedcc",
   "metadata": {},
   "outputs": [
    {
     "name": "stdout",
     "output_type": "stream",
     "text": [
      "Разница средних (B-A): 1.845\n",
      "T-stat: -9.194, p-value: 0.00000\n",
      "95% CI для эффекта: [1.452, 2.239]\n"
     ]
    }
   ],
   "source": [
    "\n",
    "from scipy import stats\n",
    "import numpy as np\n",
    "\n",
    "control_data = df_mean[df_mean.group == 'control']['revenue'].values\n",
    "test_data = df_mean[df_mean.group == 'test']['revenue'].values\n",
    "\n",
    "t_stat, p_val = stats.ttest_ind(control_data, test_data, equal_var=False)\n",
    "diff = test_data.mean() - control_data.mean()\n",
    "\n",
    "# 95% CI (Confidence Interval) для разницы средних с использованием нормального приближения\n",
    "se = np.sqrt(np.var(control_data, ddof=1)/len(control_data) + np.var(test_data, ddof=1)/len(test_data))\n",
    "ci_low = diff - 1.96*se\n",
    "ci_high = diff + 1.96*se\n",
    "\n",
    "print(f\"Разница средних (B-A): {diff:.3f}\")\n",
    "print(f\"T-stat: {t_stat:.3f}, p-value: {p_val:.5f}\")\n",
    "print(f\"95% CI для эффекта: [{ci_low:.3f}, {ci_high:.3f}]\")\n"
   ]
  },
  {
   "cell_type": "markdown",
   "id": "5d1f65f4",
   "metadata": {},
   "source": [
    "### Практика: Bootstrap для CI разницы средних"
   ]
  },
  {
   "cell_type": "code",
   "execution_count": 3,
   "id": "2e32f113",
   "metadata": {},
   "outputs": [
    {
     "name": "stdout",
     "output_type": "stream",
     "text": [
      "Bootstrap 95% CI: [1.453, 2.221]\n"
     ]
    }
   ],
   "source": [
    "\n",
    "boot_diffs = []\n",
    "rng = np.random.default_rng(0)\n",
    "for _ in range(5000):\n",
    "    boot_control = rng.choice(control_data, size=len(control_data), replace=True)\n",
    "    boot_test = rng.choice(test_data, size=len(test_data), replace=True)\n",
    "    boot_diffs.append(boot_test.mean() - boot_control.mean())\n",
    "\n",
    "boot_diffs = np.array(boot_diffs)\n",
    "ci_lower, ci_upper = np.percentile(boot_diffs, [2.5, 97.5])\n",
    "\n",
    "print(f\"Bootstrap 95% CI: [{ci_lower:.3f}, {ci_upper:.3f}]\")\n"
   ]
  },
  {
   "cell_type": "markdown",
   "id": "fad58d96",
   "metadata": {},
   "source": [
    "### Практика: Визуализация bootstrap-распределения разницы"
   ]
  },
  {
   "cell_type": "code",
   "execution_count": 5,
   "id": "6f21517a",
   "metadata": {},
   "outputs": [
    {
     "data": {
      "image/png": "[encoded data removed]",
      "text/plain": [
       "<Figure size 640x480 with 1 Axes>"
      ]
     },
     "metadata": {},
     "output_type": "display_data"
    }
   ],
   "source": [
    "\n",
    "import matplotlib.pyplot as plt\n",
    "\n",
    "plt.figure()\n",
    "plt.hist(boot_diffs, bins=50)\n",
    "plt.axvline(ci_lower, linestyle='--')\n",
    "plt.axvline(ci_upper, linestyle='--')\n",
    "plt.title(\"Bootstrap распределение разницы средних (B-A)\")\n",
    "plt.xlabel(\"Разница средних\")\n",
    "plt.ylabel(\"Частота\")\n",
    "plt.show()\n"
   ]
  },
  {
   "cell_type": "markdown",
   "id": "a08a2ab9",
   "metadata": {},
   "source": [
    "### Практика: Непараметрический тест (Mann–Whitney U)"
   ]
  },
  {
   "cell_type": "code",
   "execution_count": 6,
   "id": "9e438f30",
   "metadata": {},
   "outputs": [
    {
     "name": "stdout",
     "output_type": "stream",
     "text": [
      "U-stat: 11236719, p-value: 0.00000\n"
     ]
    }
   ],
   "source": [
    "\n",
    "u_stat, p_val_u = stats.mannwhitneyu(control_data, test_data, alternative='two-sided')\n",
    "print(f\"U-stat: {u_stat:.0f}, p-value: {p_val_u:.5f}\")\n"
   ]
  },
  {
   "cell_type": "markdown",
   "id": "3641cc78",
   "metadata": {},
   "source": [
    "\n",
    "### Теория: Что действительно означает p-value?\n",
    "Если H₀ верна и вы повторяете эксперимент много раз, p-value распределены **равномерно** на [0,1].  \n",
    "Это означает: при уровне значимости α, доля ложных срабатываний ≈ α.\n"
   ]
  },
  {
   "cell_type": "markdown",
   "id": "62f8f0c6",
   "metadata": {},
   "source": [
    "### Практика: Симуляция равномерности p-value при верной H₀"
   ]
  },
  {
   "cell_type": "code",
   "execution_count": 7,
   "id": "d5bcabf3",
   "metadata": {},
   "outputs": [
    {
     "data": {
      "image/png": "[encoded data removed]",
      "text/plain": [
       "<Figure size 640x480 with 1 Axes>"
      ]
     },
     "metadata": {},
     "output_type": "display_data"
    },
    {
     "name": "stdout",
     "output_type": "stream",
     "text": [
      "Доля p < 0.05: 0.060 (ожидание ~0.05)\n"
     ]
    }
   ],
   "source": [
    "\n",
    "rng = np.random.default_rng(1)\n",
    "p_values = []\n",
    "for _ in range(200):\n",
    "    a = rng.normal(100, 10, 2000)\n",
    "    b = rng.normal(100, 10, 2000)\n",
    "    p_values.append(stats.ttest_ind(a, b, equal_var=False).pvalue)\n",
    "\n",
    "import matplotlib.pyplot as plt\n",
    "plt.figure()\n",
    "plt.hist(p_values, bins=20, range=(0,1))\n",
    "plt.title(\"Распределение p-value при верной H₀ (t-тест)\")\n",
    "plt.xlabel(\"p-value\")\n",
    "plt.ylabel(\"Частота\")\n",
    "plt.show()\n",
    "\n",
    "print(f\"Доля p < 0.05: {np.mean(np.array(p_values) < 0.05):.3f} (ожидание ~0.05)\")\n"
   ]
  },
  {
   "cell_type": "markdown",
   "id": "4215942a",
   "metadata": {},
   "source": [
    "\n",
    "---\n",
    "## 📅 День 2 — Пропорции (конверсии), размер выборки и AA-тест\n",
    "\n",
    "### Теория\n",
    "- **Z-тест пропорций**: сравнение конверсий в A и B.\n",
    "- **Chi-square** для таблиц сопряжённости (категориальные признаки).\n",
    "- **Расчёт размера выборки (sample size)** зависит от α, желаемой мощности и ожидаемого эффекта.\n",
    "- **AA-тест**: проверка корректности рандомизации и аналитического пайплайна.\n",
    "- **Множественные сравнения**: корректировки (Bonferroni, Holm). Без этого возрастает риск ложных находок.\n"
   ]
  },
  {
   "cell_type": "markdown",
   "id": "a8a7979a",
   "metadata": {},
   "source": [
    "### Практика: генерация данных по конверсии и Z-тест"
   ]
  },
  {
   "cell_type": "code",
   "execution_count": 8,
   "id": "154fca6f",
   "metadata": {},
   "outputs": [
    {
     "name": "stdout",
     "output_type": "stream",
     "text": [
      "Конверсия A: 0.0993, B: 0.1147\n",
      "Абсолютный эффект (B-A): 0.0153 (15.44%)\n",
      "Z-stat: -1.921, p-value: 0.05471\n"
     ]
    }
   ],
   "source": [
    "\n",
    "np.random.seed(42)\n",
    "n = 3000\n",
    "p_a = 0.10\n",
    "p_b = 0.12  # ожидаемый uplift +2 п.п.\n",
    "\n",
    "conv_a = np.random.binomial(1, p_a, n)\n",
    "conv_b = np.random.binomial(1, p_b, n)\n",
    "\n",
    "import pandas as pd\n",
    "df_conv = pd.DataFrame({\n",
    "    'group': ['A']*n + ['B']*n,\n",
    "    'converted': np.concatenate([conv_a, conv_b])\n",
    "})\n",
    "\n",
    "from statsmodels.stats.proportion import proportions_ztest\n",
    "\n",
    "successes = [conv_a.sum(), conv_b.sum()]\n",
    "nobs = [n, n]\n",
    "z_stat, p_val_z = proportions_ztest(successes, nobs, alternative='two-sided')\n",
    "uplift_abs = conv_b.mean() - conv_a.mean()\n",
    "uplift_rel = uplift_abs / conv_a.mean()\n",
    "\n",
    "print(f\"Конверсия A: {conv_a.mean():.4f}, B: {conv_b.mean():.4f}\")\n",
    "print(f\"Абсолютный эффект (B-A): {uplift_abs:.4f} ({uplift_rel*100:.2f}%)\")\n",
    "print(f\"Z-stat: {z_stat:.3f}, p-value: {p_val_z:.5f}\")\n"
   ]
  },
  {
   "cell_type": "markdown",
   "id": "7b10616d",
   "metadata": {},
   "source": [
    "### Практика: Доверительный интервал для разницы конверсий (Wald)"
   ]
  },
  {
   "cell_type": "code",
   "execution_count": 9,
   "id": "9e619aec",
   "metadata": {},
   "outputs": [
    {
     "name": "stdout",
     "output_type": "stream",
     "text": [
      "95% CI: [-0.0003, 0.0310]\n"
     ]
    }
   ],
   "source": [
    "\n",
    "pa = conv_a.mean()\n",
    "pb = conv_b.mean()\n",
    "se = np.sqrt(pa*(1-pa)/n + pb*(1-pb)/n)\n",
    "ci_low = (pb - pa) - 1.96*se\n",
    "ci_high = (pb - pa) + 1.96*se\n",
    "print(f\"95% CI: [{ci_low:.4f}, {ci_high:.4f}]\")\n"
   ]
  },
  {
   "cell_type": "markdown",
   "id": "c2997d77",
   "metadata": {},
   "source": [
    "### Практика: Chi-square (хи-квадрат) для категориальных данных"
   ]
  },
  {
   "cell_type": "code",
   "execution_count": 10,
   "id": "13a8ccad",
   "metadata": {},
   "outputs": [
    {
     "name": "stdout",
     "output_type": "stream",
     "text": [
      "Chi2: 9.584, dof: 1, p-value: 0.00196\n",
      "Ожидаемые частоты:\n",
      "[[135.  65.]\n",
      " [135.  65.]]\n"
     ]
    }
   ],
   "source": [
    "\n",
    "from scipy.stats import chi2_contingency\n",
    "import numpy as np\n",
    "\n",
    "# Пример: распределение кликов по двум вариантам и двум источникам трафика\n",
    "table = np.array([[120, 80],   # A: click/no-click\n",
    "                  [150, 50]])  # B: click/no-click\n",
    "\n",
    "chi2, p, dof, expected = chi2_contingency(table)\n",
    "print(f\"Chi2: {chi2:.3f}, dof: {dof}, p-value: {p:.5f}\")\n",
    "print(\"Ожидаемые частоты:\")\n",
    "print(expected)\n"
   ]
  },
  {
   "cell_type": "markdown",
   "id": "fb45fda2",
   "metadata": {},
   "source": [
    "### Практика: Расчёт размера выборки для конверсий"
   ]
  },
  {
   "cell_type": "code",
   "execution_count": 13,
   "id": "5f3cfd81",
   "metadata": {},
   "outputs": [
    {
     "name": "stdout",
     "output_type": "stream",
     "text": [
      "Необходимое n на группу: 3835\n"
     ]
    }
   ],
   "source": [
    "\n",
    "from statsmodels.stats.power import NormalIndPower\n",
    "from statsmodels.stats.proportion import proportion_effectsize\n",
    "\n",
    "alpha = 0.05\n",
    "power = 0.8\n",
    "p1 = 0.10\n",
    "p2 = 0.12\n",
    "es = proportion_effectsize(p1, p2)\n",
    "analysis = NormalIndPower()\n",
    "n_per_group = analysis.solve_power(effect_size=es, alpha=alpha, power=power, alternative='two-sided')\n",
    "print(f\"Необходимое n на группу: {np.ceil(n_per_group):.0f}\")\n"
   ]
  },
  {
   "cell_type": "markdown",
   "id": "69ebcb52",
   "metadata": {},
   "source": [
    "### Практика: AA-тест и проверка доли ложных срабатываний"
   ]
  },
  {
   "cell_type": "code",
   "execution_count": 14,
   "id": "4b7ed351",
   "metadata": {},
   "outputs": [
    {
     "name": "stdout",
     "output_type": "stream",
     "text": [
      "AA-тест: доля ложных срабатываний ~ 0.070 (ожидание ~ 0.05)\n"
     ]
    }
   ],
   "source": [
    "\n",
    "rng = np.random.default_rng(123)\n",
    "alph = 0.05\n",
    "trials = 300\n",
    "false_positives = 0\n",
    "for _ in range(trials):\n",
    "    a = rng.binomial(1, 0.10, 3000)\n",
    "    b = rng.binomial(1, 0.10, 3000)\n",
    "    stat, p = proportions_ztest([a.sum(), b.sum()], [len(a), len(b)])\n",
    "    false_positives += (p < alph)\n",
    "\n",
    "print(f\"AA-тест: доля ложных срабатываний ~ {false_positives/trials:.3f} (ожидание ~ {alph})\")\n"
   ]
  },
  {
   "cell_type": "markdown",
   "id": "530bdf78",
   "metadata": {},
   "source": [
    "### Практика: Проблема множественных проверок и коррекции (Bonferroni, Holm)"
   ]
  },
  {
   "cell_type": "code",
   "execution_count": 15,
   "id": "dda8c5c9",
   "metadata": {},
   "outputs": [
    {
     "name": "stdout",
     "output_type": "stream",
     "text": [
      "Исходные p-values: [0.1422 0.4024 0.4314 0.7774 0.2037 0.0696 0.3413 0.5184 0.0817 0.8226]\n",
      "Bonferroni отклонить H0: [False False False False False False False False False False] скорректированные p: [1.     1.     1.     1.     1.     0.6962 1.     1.     0.8174 1.    ]\n",
      "Holm отклонить H0: [False False False False False False False False False False] скорректированные p: [1.     1.     1.     1.     1.     0.6962 1.     1.     0.7357 1.    ]\n"
     ]
    }
   ],
   "source": [
    "\n",
    "from statsmodels.stats.multitest import multipletests\n",
    "\n",
    "# Сымитируем 10 экспериментов без эффекта (все H0 истинны)\n",
    "rng = np.random.default_rng(7)\n",
    "pvals = []\n",
    "for _ in range(10):\n",
    "    a = rng.normal(0, 1, 1000)\n",
    "    b = rng.normal(0, 1, 1000)\n",
    "    pvals.append(stats.ttest_ind(a, b, equal_var=False).pvalue)\n",
    "\n",
    "pvals = np.array(pvals)\n",
    "rej_bonf, p_bonf, _, _ = multipletests(pvals, alpha=0.05, method='bonferroni')\n",
    "rej_holm, p_holm, _, _ = multipletests(pvals, alpha=0.05, method='holm')\n",
    "\n",
    "print(\"Исходные p-values:\", np.round(pvals, 4))\n",
    "print(\"Bonferroni отклонить H0:\", rej_bonf, \"скорректированные p:\", np.round(p_bonf, 4))\n",
    "print(\"Holm отклонить H0:\", rej_holm, \"скорректированные p:\", np.round(p_holm, 4))\n"
   ]
  },
  {
   "cell_type": "markdown",
   "id": "7478bfeb",
   "metadata": {},
   "source": [
    "\n",
    "---\n",
    "## 📅 День 3 — Продвинутые техники: CUPED, стратификация, sequential testing\n",
    "\n",
    "### Теория\n",
    "- **Повышение чувствительности**:\n",
    "  - **CUPED** (Control Using Pre-Experiment Data): убираем часть дисперсии с помощью ковариаты из прe-периода.\n",
    "  - **Стратификация**: сравнение в пределах однородных слоёв (канал, гео, устройство), затем агрегирование.\n",
    "- **Sequential testing**: если часто \"подглядывать\" в результаты, растёт риск ложных находок. Нужны корректировки (альфа-спендинг, Pocock/O'Brien–Fleming границы) или заранее заданные спот-проверки.\n",
    "- **Интерпретация**: статистическая значимость ≠ практическая. Сравнивайте с целями продукта, стоимостью внедрения и рисками.\n"
   ]
  },
  {
   "cell_type": "markdown",
   "id": "25faba53",
   "metadata": {},
   "source": [
    "### Практика: CUPED — снижение дисперсии на примере среднего чека"
   ]
  },
  {
   "cell_type": "code",
   "execution_count": 16,
   "id": "db39c39b",
   "metadata": {},
   "outputs": [
    {
     "name": "stdout",
     "output_type": "stream",
     "text": [
      "Разница (raw) B-A: 2.696, p-value: 0.00000\n",
      "Разница (CUPED) B-A: 2.157, p-value: 0.00000\n",
      "Снижение дисперсии A: 67.6% | B: 69.7%\n"
     ]
    }
   ],
   "source": [
    "\n",
    "import numpy as np\n",
    "import pandas as pd\n",
    "from scipy import stats\n",
    "\n",
    "np.random.seed(10)\n",
    "n = 6000\n",
    "\n",
    "# Пре-период (ковариата): средний чек пользователя до эксперимента\n",
    "pre = np.random.normal(100, 15, n)\n",
    "\n",
    "# Разбивка на группы\n",
    "groups = np.array(['A']*(n//2) + ['B']*(n - n//2))\n",
    "rng = np.random.default_rng(10)\n",
    "rng.shuffle(groups)\n",
    "\n",
    "# Пост-период метрика (истинный эффект для B: +2)\n",
    "post = pre + np.random.normal(0, 10, n) + (groups=='B')*2.0\n",
    "\n",
    "df = pd.DataFrame({'group': groups, 'pre': pre, 'post': post})\n",
    "\n",
    "# Оценим тетa для CUPED: theta = Cov(post, pre) / Var(pre)\n",
    "theta = np.cov(df['post'], df['pre'], ddof=1)[0,1] / np.var(df['pre'], ddof=1)\n",
    "\n",
    "# Скорректированная метрика\n",
    "df['post_cuped'] = df['post'] - theta * (df['pre'] - df['pre'].mean())\n",
    "\n",
    "# Сравнение t-тестом: до и после CUPED\n",
    "def ttest_diff(metric):\n",
    "    a = df.loc[df.group=='A', metric].values\n",
    "    b = df.loc[df.group=='B', metric].values\n",
    "    t, p = stats.ttest_ind(a, b, equal_var=False)\n",
    "    return b.mean()-a.mean(), p, a.var(ddof=1), b.var(ddof=1)\n",
    "\n",
    "diff_raw, p_raw, varA_raw, varB_raw = ttest_diff('post')\n",
    "diff_cup, p_cup, varA_c, varB_c = ttest_diff('post_cuped')\n",
    "\n",
    "print(f\"Разница (raw) B-A: {diff_raw:.3f}, p-value: {p_raw:.5f}\")\n",
    "print(f\"Разница (CUPED) B-A: {diff_cup:.3f}, p-value: {p_cup:.5f}\")\n",
    "print(f\"Снижение дисперсии A: {100*(1 - varA_c/varA_raw):.1f}% | B: {100*(1 - varB_c/varB_raw):.1f}%\")\n"
   ]
  },
  {
   "cell_type": "markdown",
   "id": "d0e9dae0",
   "metadata": {},
   "source": [
    "### Практика: Стратификация по источнику трафика"
   ]
  },
  {
   "cell_type": "code",
   "execution_count": 17,
   "id": "0c37bf91",
   "metadata": {},
   "outputs": [
    {
     "name": "stdout",
     "output_type": "stream",
     "text": [
      "t-тест без стратификации: p=0.00000, эффект (B-A)≈1.653\n",
      "Стратифицированная оценка эффекта (взвешенная по доле слоя): 1.606\n"
     ]
    }
   ],
   "source": [
    "\n",
    "import numpy as np\n",
    "import pandas as pd\n",
    "from scipy import stats\n",
    "\n",
    "np.random.seed(11)\n",
    "n = 8000\n",
    "traffic_sources = np.random.choice(['seo','ads','social'], size=n, p=[0.5, 0.3, 0.2])\n",
    "\n",
    "groups = np.array(['A']*(n//2) + ['B']*(n - n//2))\n",
    "rng = np.random.default_rng(11)\n",
    "rng.shuffle(groups)\n",
    "\n",
    "# Базовые средние по источникам + эффект в B зависит от источника\n",
    "base = {'seo': 100, 'ads': 95, 'social': 105}\n",
    "effect = {'seo': 1.5, 'ads': 3.0, 'social': 0.5}\n",
    "\n",
    "y = []\n",
    "for g, src in zip(groups, traffic_sources):\n",
    "    mu = base[src] + (effect[src] if g=='B' else 0.0)\n",
    "    y.append(np.random.normal(mu, 12))\n",
    "\n",
    "df = pd.DataFrame({'group': groups, 'source': traffic_sources, 'metric': y})\n",
    "\n",
    "# Нестрaтифицированный t-тест\n",
    "a = df.loc[df.group=='A','metric'].values\n",
    "b = df.loc[df.group=='B','metric'].values\n",
    "t_all, p_all = stats.ttest_ind(a, b, equal_var=False)\n",
    "\n",
    "# Стратифицированный эффект: считаем разницу по слоям и усредняем по весам слоёв\n",
    "effects = []\n",
    "weights = []\n",
    "for src, dsub in df.groupby('source'):\n",
    "    a_s = dsub.loc[dsub.group=='A','metric'].values\n",
    "    b_s = dsub.loc[dsub.group=='B','metric'].values\n",
    "    effects.append(b_s.mean()-a_s.mean())\n",
    "    weights.append(len(dsub)/len(df))\n",
    "\n",
    "strat_effect = np.sum(np.array(effects)*np.array(weights))\n",
    "\n",
    "print(f\"t-тест без стратификации: p={p_all:.5f}, эффект (B-A)≈{b.mean()-a.mean():.3f}\")\n",
    "print(f\"Стратифицированная оценка эффекта (взвешенная по доле слоя): {strat_effect:.3f}\")\n"
   ]
  },
  {
   "cell_type": "markdown",
   "id": "67117efb",
   "metadata": {},
   "source": [
    "### Практика: Sequential testing — почему «подглядывать» опасно"
   ]
  },
  {
   "cell_type": "code",
   "execution_count": 18,
   "id": "5d86bb7e",
   "metadata": {},
   "outputs": [
    {
     "name": "stdout",
     "output_type": "stream",
     "text": [
      "Доля ложных срабатываний при подглядывании: 0.365 (ожидание без подглядывания ~0.05)\n",
      "Вывод: без специальных корректировок sequential testing раздувает уровень ошибок I рода.\n"
     ]
    }
   ],
   "source": [
    "\n",
    "import numpy as np\n",
    "from statsmodels.stats.proportion import proportions_ztest\n",
    "\n",
    "np.random.seed(12)\n",
    "alpha = 0.05\n",
    "inflated = 0\n",
    "trials = 200  # количество симуляций эксперимента без эффекта\n",
    "\n",
    "for _ in range(trials):\n",
    "    # Истинных различий нет\n",
    "    a_stream = np.random.binomial(1, 0.10, 20000)\n",
    "    b_stream = np.random.binomial(1, 0.10, 20000)\n",
    "\n",
    "    # \"Подглядываем\" каждые 100 наблюдений\n",
    "    significant = False\n",
    "    for m in range(500, 20001, 100):\n",
    "        stat, p = proportions_ztest([a_stream[:m].sum(), b_stream[:m].sum()],[m, m])\n",
    "        if p < alpha:\n",
    "            significant = True\n",
    "            break\n",
    "    inflated += significant\n",
    "\n",
    "print(f\"Доля ложных срабатываний при подглядывании: {inflated/trials:.3f} (ожидание без подглядывания ~{alpha})\")\n",
    "print(\"Вывод: без специальных корректировок sequential testing раздувает уровень ошибок I рода.\")\n"
   ]
  },
  {
   "cell_type": "markdown",
   "id": "f5422576",
   "metadata": {},
   "source": [
    "\n",
    "---\n",
    "## 📦 Утилиты: функции для повторного использования\n",
    "\n",
    "Ниже — набор функций, чтобы быстро анализировать A/B-тесты:\n",
    "- `ab_ttest_mean`, `ab_ztest_proportions`\n",
    "- `bootstrap_ci_mean_diff`\n",
    "- `sample_size_proportions`\n",
    "- `cuped_transform`\n"
   ]
  },
  {
   "cell_type": "code",
   "execution_count": 20,
   "id": "0f78021b",
   "metadata": {},
   "outputs": [],
   "source": [
    "\n",
    "import numpy as np\n",
    "from scipy import stats\n",
    "from statsmodels.stats.proportion import proportions_ztest, proportion_effectsize\n",
    "from statsmodels.stats.power import NormalIndPower\n",
    "\n",
    "def ab_ttest_mean(a, b, alpha=0.05):\n",
    "    t, p = stats.ttest_ind(a, b, equal_var=False)\n",
    "    diff = np.mean(b) - np.mean(a)\n",
    "    se = np.sqrt(np.var(a, ddof=1)/len(a) + np.var(b, ddof=1)/len(b))\n",
    "    ci = (diff - 1.96*se, diff + 1.96*se)\n",
    "    return {'diff': diff, 't_stat': t, 'p_value': p, 'ci95': ci, 'significant': p < alpha}\n",
    "\n",
    "def ab_ztest_proportions(a_binary, b_binary, alpha=0.05):\n",
    "    successes = [np.sum(a_binary), np.sum(b_binary)]\n",
    "    nobs = [len(a_binary), len(b_binary)]\n",
    "    z, p = proportions_ztest(successes, nobs)\n",
    "    diff = np.mean(b_binary) - np.mean(a_binary)\n",
    "    # Wald CI\n",
    "    pa, pb = np.mean(a_binary), np.mean(b_binary)\n",
    "    se = np.sqrt(pa*(1-pa)/nobs[0] + pb*(1-pb)/nobs[1])\n",
    "    ci = (diff - 1.96*se, diff + 1.96*se)\n",
    "    return {'diff': diff, 'z_stat': z, 'p_value': p, 'ci95': ci, 'significant': p < alpha}\n",
    "\n",
    "def bootstrap_ci_mean_diff(a, b, n_boot=5000, seed=0):\n",
    "    rng = np.random.default_rng(seed)\n",
    "    diffs = []\n",
    "    for _ in range(n_boot):\n",
    "        ba = rng.choice(a, size=len(a), replace=True)\n",
    "        bb = rng.choice(b, size=len(b), replace=True)\n",
    "        diffs.append(np.mean(bb) - np.mean(ba))\n",
    "    diffs = np.array(diffs)\n",
    "    return np.percentile(diffs, [2.5, 97.5])\n",
    "\n",
    "def sample_size_proportions(p1, p2, alpha=0.05, power=0.8, alternative='two-sided'):\n",
    "    es = proportion_effectsize(p1, p2)\n",
    "    n = NormalIndPower().solve_power(effect_size=es, alpha=alpha, power=power, alternative=alternative)\n",
    "    return int(np.ceil(n))\n",
    "\n",
    "def cuped_transform(y, x):\n",
    "    # y — пост-метрика, x — ковариата (пре-период)\n",
    "    theta = np.cov(y, x, ddof=1)[0,1] / np.var(x, ddof=1)\n",
    "    y_adj = y - theta*(x - np.mean(x))\n",
    "    return y_adj, theta\n"
   ]
  },
  {
   "cell_type": "markdown",
   "id": "4146b785",
   "metadata": {},
   "source": [
    "### Быстрый демо-пример с утилитами"
   ]
  },
  {
   "cell_type": "code",
   "execution_count": 21,
   "id": "a3aba7d6",
   "metadata": {},
   "outputs": [
    {
     "name": "stdout",
     "output_type": "stream",
     "text": [
      "{'diff': 1.6163770698699835, 't_stat': -6.098909253490428, 'p_value': 1.1175683509139155e-09, 'ci95': (1.0969236848024728, 2.1358304549374942), 'significant': True}\n",
      "{'diff': 0.026833333333333334, 'z_stat': -4.61424532215704, 'p_value': 3.945262098726163e-06, 'ci95': (0.015445413636794601, 0.03822125302987207), 'significant': True}\n",
      "Bootstrap CI для разницы средних: [1.1142748  2.13128557]\n"
     ]
    }
   ],
   "source": [
    "\n",
    "# Средние\n",
    "a = np.random.normal(100, 12, 4000)\n",
    "b = np.random.normal(101.5, 12, 4000)\n",
    "print(ab_ttest_mean(a, b))\n",
    "\n",
    "# Конверсии\n",
    "a_bin = np.random.binomial(1, 0.11, 6000)\n",
    "b_bin = np.random.binomial(1, 0.125, 6000)\n",
    "print(ab_ztest_proportions(a_bin, b_bin))\n",
    "\n",
    "# Bootstrap CI\n",
    "print(\"Bootstrap CI для разницы средних:\", bootstrap_ci_mean_diff(a, b))\n"
   ]
  },
  {
   "cell_type": "markdown",
   "id": "67ee08da",
   "metadata": {},
   "source": [
    "\n",
    "---\n",
    "## ✅ Чек-лист по результатам\n",
    "- Понимаю гипотезы, ошибки I/II рода, мощность, p-value, CI.\n",
    "- Умею применять t-тест, Z-тест, Mann–Whitney, chi-square.\n",
    "- Умею считать размер выборки для конверсий.\n",
    "- Могу провести AA-тест и интерпретировать результат.\n",
    "- Знаю, как бороться с множественными проверками.\n",
    "- Умею повышать чувствительность (CUPED, стратификация).\n",
    "- Понимаю риски sequential testing и когда нужны корректировки.\n",
    "- Есть утилиты/функции для быстрого анализа экспериментов.\n"
   ]
  }
 ],
 "metadata": {
  "kernelspec": {
   "display_name": "Python 3 (ipykernel)",
   "language": "python",
   "name": "python3"
  },
  "language_info": {
   "codemirror_mode": {
    "name": "ipython",
    "version": 3
   },
   "file_extension": ".py",
   "mimetype": "text/x-python",
   "name": "python",
   "nbconvert_exporter": "python",
   "pygments_lexer": "ipython3",
   "version": "3.11.2"
  }
 },
 "nbformat": 4,
 "nbformat_minor": 5
}
